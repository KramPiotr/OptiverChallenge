{
 "cells": [
  {
   "cell_type": "code",
   "execution_count": 137,
   "id": "complimentary-recognition",
   "metadata": {},
   "outputs": [
    {
     "name": "stdout",
     "output_type": "stream",
     "text": [
      "Setup was successful.\n"
     ]
    }
   ],
   "source": [
    "from optibook.synchronous_client import Exchange\n",
    "import pandas as pd\n",
    "import matplotlib.pyplot as plt\n",
    "import numpy as np\n",
    "import time\n",
    "\n",
    "import logging\n",
    "logger = logging.getLogger('client')\n",
    "logger.setLevel('ERROR')\n",
    "\n",
    "print(\"Setup was successful.\")"
   ]
  },
  {
   "cell_type": "code",
   "execution_count": 138,
   "id": "checked-wisdom",
   "metadata": {},
   "outputs": [],
   "source": [
    "instrument_id = 'PHILIPS_A'"
   ]
  },
  {
   "cell_type": "code",
   "execution_count": 346,
   "id": "homeless-creativity",
   "metadata": {},
   "outputs": [
    {
     "name": "stderr",
     "output_type": "stream",
     "text": [
      "2021-01-24 13:06:56,651 [asyncio   ] [MainThread  ] Using selector: EpollSelector\n",
      "2021-01-24 13:06:56,796 [client    ] [Thread-34   ] Forcing a disconnect due to an error: Closing connection because someone else logged in with the same credentials. Only one session may be active at the same time.\n"
     ]
    }
   ],
   "source": [
    "e = Exchange()\n",
    "a = e.connect()"
   ]
  },
  {
   "cell_type": "code",
   "execution_count": 347,
   "id": "adjusted-psychiatry",
   "metadata": {},
   "outputs": [],
   "source": [
    "def plot_bid_ask_spread(timeframe):\n",
    "    spread_list = []\n",
    "    t_end = time.time() + timeframe\n",
    "\n",
    "    while time.time() < t_end:\n",
    "        book = e.get_last_price_book(instrument_id)\n",
    "        if book.bids and book.asks:\n",
    "            best_bid = book.bids[0].price\n",
    "            best_ask = book.asks[0].price\n",
    "            bid_ask_spread = best_ask - best_bid\n",
    "            spread_list.append(bid_ask_spread)\n",
    "        else:\n",
    "            spread_list.append(0) \n",
    "            \n",
    "    res = np.array(spread_list)\n",
    "    plt.plot(res)\n",
    "    plt.ylabel('bid-ask spread')\n",
    "    plt.xlabel('time')\n",
    "    plt.title(f'Change in bid-ask spread in the last {timeframe}s')\n",
    "    plt.show()"
   ]
  },
  {
   "cell_type": "code",
   "execution_count": 348,
   "id": "desperate-luther",
   "metadata": {},
   "outputs": [
    {
     "data": {
      "image/png": "[encoded data removed]",
      "text/plain": [
       "<Figure size 432x288 with 1 Axes>"
      ]
     },
     "metadata": {
      "needs_background": "light"
     },
     "output_type": "display_data"
    }
   ],
   "source": [
    "plot_bid_ask_spread(timeframe=5)"
   ]
  },
  {
   "cell_type": "code",
   "execution_count": null,
   "id": "round-cincinnati",
   "metadata": {},
   "outputs": [],
   "source": []
  }
 ],
 "metadata": {
  "kernelspec": {
   "display_name": "Python 3",
   "language": "python",
   "name": "python3"
  },
  "language_info": {
   "codemirror_mode": {
    "name": "ipython",
    "version": 3
   },
   "file_extension": ".py",
   "mimetype": "text/x-python",
   "name": "python",
   "nbconvert_exporter": "python",
   "pygments_lexer": "ipython3",
   "version": "3.6.12"
  }
 },
 "nbformat": 4,
 "nbformat_minor": 5
}
