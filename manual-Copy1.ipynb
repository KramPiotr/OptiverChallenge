{
 "cells": [
  {
   "cell_type": "markdown",
   "metadata": {},
   "source": [
    "# Optibook Manual\n",
    "\n",
    "This notebook contains examples for **all interactions** you can do with optibook (that means inserting orders, getting your positions, etc.). You should use this notebook as a reference/documenation for the system later on when you write more extensive algorithms.\n",
    "\n",
    "First we do some setup and import the optibook client, which is used to connect to the optibook exchange. If everything is setup correctly, you should see the line \"Setup was successful.\" being printed."
   ]
  },
  {
   "cell_type": "code",
   "execution_count": 9,
   "metadata": {},
   "outputs": [
    {
     "name": "stdout",
     "output_type": "stream",
     "text": [
      "Setup was successful.\n"
     ]
    }
   ],
   "source": [
    "from optibook.synchronous_client import Exchange\n",
    "\n",
    "import logging\n",
    "logger = logging.getLogger('client')\n",
    "logger.setLevel('ERROR')\n",
    "\n",
    "print(\"Setup was successful.\")"
   ]
  },
  {
   "cell_type": "markdown",
   "metadata": {},
   "source": [
    "### Define Your Instrument\n",
    "\n",
    "An instrument is the term we use for the 'thing' that we are trading. As such, if we are trading BMW stocks, we would call those an instrument. However, BMW options would be a different instrument. \n",
    "\n",
    "This field determines which instrument we are trading. By changing it, you will insert trades for a different instrument. You can see all available instruments by looking at the dropdown menu labeled \"Instruments\" on the visualizer."
   ]
  },
  {
   "cell_type": "code",
   "execution_count": 10,
   "metadata": {},
   "outputs": [],
   "source": [
    "instrument_id = 'PHILIPS_A'"
   ]
  },
  {
   "cell_type": "markdown",
   "metadata": {},
   "source": [
    "### Connect to Exchange"
   ]
  },
  {
   "cell_type": "code",
   "execution_count": 48,
   "metadata": {},
   "outputs": [
    {
     "name": "stderr",
     "output_type": "stream",
     "text": [
      "2021-01-23 18:08:00,611 [asyncio   ] [MainThread  ] Using selector: EpollSelector\n",
      "2021-01-23 18:08:00,782 [client    ] [Thread-7    ] Forcing a disconnect due to an error: Closing connection because someone else logged in with the same credentials. Only one session may be active at the same time.\n"
     ]
    }
   ],
   "source": [
    "e = Exchange()\n",
    "a = e.connect()\n",
    "\n",
    "# you can also define host/user/pass yourself\n",
    "# when not defined, it is taken from ~/.optibook file if it exists\n",
    "# if that file does not exists, an error is thrown\n",
    "\n",
    "#e = Exchange(host='host-to-connect-to')\n",
    "#a = e.connect(username='your-username', password='your-password')\n"
   ]
  },
  {
   "cell_type": "markdown",
   "metadata": {},
   "source": [
    "## Outstanding Orders, Trades, Current Positions and PnL"
   ]
  },
  {
   "cell_type": "code",
   "execution_count": 50,
   "metadata": {},
   "outputs": [],
   "source": [
    "# Returns all currently outstanding orders\n",
    "orders = e.get_outstanding_orders(instrument_id)\n",
    "for o in orders.values():\n",
    "    print(o)"
   ]
  },
  {
   "cell_type": "code",
   "execution_count": 55,
   "metadata": {},
   "outputs": [],
   "source": [
    "# Returns all trades you have done since the last time this function was called\n",
    "trades = e.poll_new_trades(instrument_id)\n",
    "for t in trades:\n",
    "    print(f\"[TRADED {t.instrument_id}] price({t.price}), volume({t.volume}), side({t.side})\")"
   ]
  },
  {
   "cell_type": "code",
   "execution_count": 54,
   "metadata": {},
   "outputs": [],
   "source": [
    "# Returns all trades you have done since since the instantiation of the Exchange\n",
    "trades = e.get_trade_history(instrument_id)\n",
    "for t in trades:\n",
    "    print(f\"[TRADED {t.instrument_id}] price({t.price}), volume({t.volume}), side({t.side})\")"
   ]
  },
  {
   "cell_type": "code",
   "execution_count": 59,
   "metadata": {},
   "outputs": [
    {
     "name": "stdout",
     "output_type": "stream",
     "text": [
      "PHILIPS_A -450\n",
      "PHILIPS_B 0\n"
     ]
    }
   ],
   "source": [
    "# Returns all current positions\n",
    "positions = e.get_positions()\n",
    "for p in positions:\n",
    "    print(p, positions[p])"
   ]
  },
  {
   "cell_type": "code",
   "execution_count": 18,
   "metadata": {},
   "outputs": [
    {
     "name": "stdout",
     "output_type": "stream",
     "text": [
      "PHILIPS_A {'volume': 50, 'cash': -3298.4000000000015}\n",
      "PHILIPS_B {'volume': 0, 'cash': -1207.1999999999994}\n"
     ]
    }
   ],
   "source": [
    "# Returns all current positions with cash invested\n",
    "positions = e.get_positions_and_cash()\n",
    "for p in positions:\n",
    "    print(p, positions[p])"
   ]
  },
  {
   "cell_type": "code",
   "execution_count": 19,
   "metadata": {},
   "outputs": [
    {
     "name": "stdout",
     "output_type": "stream",
     "text": [
      "-635.6000000000004\n"
     ]
    }
   ],
   "source": [
    "# Returns Current PnL based on last Traded Price\n",
    "pnl = e.get_pnl()\n",
    "print(pnl)"
   ]
  },
  {
   "cell_type": "markdown",
   "metadata": {},
   "source": [
    "## Order Book and Public Trade Ticks"
   ]
  },
  {
   "cell_type": "code",
   "execution_count": 1,
   "metadata": {},
   "outputs": [
    {
     "ename": "NameError",
     "evalue": "name 'e' is not defined",
     "output_type": "error",
     "traceback": [
      "\u001b[0;31m---------------------------------------------------------------------------\u001b[0m",
      "\u001b[0;31mNameError\u001b[0m                                 Traceback (most recent call last)",
      "\u001b[0;32m<ipython-input-1-4e90c72dd4ea>\u001b[0m in \u001b[0;36m<module>\u001b[0;34m\u001b[0m\n\u001b[0;32m----> 1\u001b[0;31m \u001b[0mbook\u001b[0m \u001b[0;34m=\u001b[0m \u001b[0me\u001b[0m\u001b[0;34m.\u001b[0m\u001b[0mget_last_price_book\u001b[0m\u001b[0;34m(\u001b[0m\u001b[0minstrument_id\u001b[0m\u001b[0;34m)\u001b[0m\u001b[0;34m\u001b[0m\u001b[0;34m\u001b[0m\u001b[0m\n\u001b[0m\u001b[1;32m      2\u001b[0m \u001b[0mprint\u001b[0m\u001b[0;34m(\u001b[0m\u001b[0mbook\u001b[0m\u001b[0;34m)\u001b[0m\u001b[0;34m\u001b[0m\u001b[0;34m\u001b[0m\u001b[0m\n",
      "\u001b[0;31mNameError\u001b[0m: name 'e' is not defined"
     ]
    }
   ],
   "source": [
    "book = e.get_last_price_book(instrument_id)\n",
    "print(book)"
   ]
  },
  {
   "cell_type": "code",
   "execution_count": 70,
   "metadata": {},
   "outputs": [
    {
     "name": "stdout",
     "output_type": "stream",
     "text": [
      "[PHILIPS_B] price(64.4), volume(10), aggressor_side(bid), buyer(), seller()\n",
      "[PHILIPS_B] price(64.4), volume(10), aggressor_side(bid), buyer(), seller()\n",
      "[PHILIPS_B] price(64.4), volume(10), aggressor_side(bid), buyer(), seller()\n",
      "[PHILIPS_B] price(64.5), volume(10), aggressor_side(bid), buyer(), seller()\n",
      "[PHILIPS_B] price(64.5), volume(10), aggressor_side(bid), buyer(), seller()\n",
      "[PHILIPS_B] price(64.4), volume(20), aggressor_side(bid), buyer(), seller()\n",
      "[PHILIPS_B] price(64.4), volume(10), aggressor_side(bid), buyer(), seller()\n",
      "[PHILIPS_B] price(64.4), volume(10), aggressor_side(bid), buyer(), seller()\n",
      "[PHILIPS_B] price(64.60000000000001), volume(10), aggressor_side(bid), buyer(), seller()\n",
      "[PHILIPS_B] price(64.7), volume(10), aggressor_side(bid), buyer(), seller()\n",
      "[PHILIPS_B] price(64.5), volume(10), aggressor_side(bid), buyer(), seller()\n",
      "[PHILIPS_B] price(64.5), volume(10), aggressor_side(bid), buyer(), seller()\n",
      "[PHILIPS_B] price(64.4), volume(10), aggressor_side(ask), buyer(), seller()\n",
      "[PHILIPS_B] price(64.4), volume(10), aggressor_side(ask), buyer(), seller()\n",
      "[PHILIPS_B] price(64.5), volume(10), aggressor_side(bid), buyer(), seller()\n",
      "[PHILIPS_B] price(64.5), volume(10), aggressor_side(bid), buyer(), seller()\n",
      "[PHILIPS_B] price(64.4), volume(10), aggressor_side(ask), buyer(), seller()\n",
      "[PHILIPS_B] price(64.4), volume(10), aggressor_side(ask), buyer(), seller()\n",
      "[PHILIPS_B] price(64.7), volume(10), aggressor_side(bid), buyer(), seller()\n",
      "[PHILIPS_B] price(64.7), volume(10), aggressor_side(bid), buyer(), seller()\n",
      "[PHILIPS_B] price(64.7), volume(10), aggressor_side(bid), buyer(), seller()\n",
      "[PHILIPS_B] price(64.7), volume(20), aggressor_side(bid), buyer(), seller()\n",
      "[PHILIPS_B] price(64.9), volume(10), aggressor_side(bid), buyer(), seller()\n",
      "[PHILIPS_B] price(64.60000000000001), volume(10), aggressor_side(ask), buyer(), seller()\n",
      "[PHILIPS_B] price(64.60000000000001), volume(10), aggressor_side(ask), buyer(), seller()\n",
      "[PHILIPS_B] price(64.9), volume(10), aggressor_side(bid), buyer(), seller()\n",
      "[PHILIPS_B] price(64.7), volume(10), aggressor_side(bid), buyer(), seller()\n",
      "[PHILIPS_B] price(64.8), volume(10), aggressor_side(bid), buyer(), seller()\n",
      "[PHILIPS_B] price(64.9), volume(10), aggressor_side(bid), buyer(), seller()\n",
      "[PHILIPS_B] price(64.9), volume(10), aggressor_side(bid), buyer(), seller()\n",
      "[PHILIPS_B] price(64.9), volume(10), aggressor_side(bid), buyer(), seller()\n",
      "[PHILIPS_B] price(64.9), volume(20), aggressor_side(ask), buyer(), seller()\n",
      "[PHILIPS_B] price(64.8), volume(10), aggressor_side(bid), buyer(), seller()\n",
      "[PHILIPS_B] price(65.0), volume(10), aggressor_side(bid), buyer(), seller()\n",
      "[PHILIPS_B] price(65.0), volume(10), aggressor_side(bid), buyer(), seller()\n",
      "[PHILIPS_B] price(65.2), volume(10), aggressor_side(bid), buyer(), seller()\n",
      "[PHILIPS_B] price(65.3), volume(10), aggressor_side(bid), buyer(), seller()\n",
      "[PHILIPS_B] price(65.3), volume(10), aggressor_side(bid), buyer(), seller()\n",
      "[PHILIPS_B] price(65.4), volume(10), aggressor_side(bid), buyer(), seller()\n",
      "[PHILIPS_B] price(65.4), volume(20), aggressor_side(bid), buyer(), seller()\n",
      "[PHILIPS_B] price(65.60000000000001), volume(10), aggressor_side(bid), buyer(), seller()\n",
      "[PHILIPS_B] price(65.4), volume(10), aggressor_side(bid), buyer(), seller()\n",
      "[PHILIPS_B] price(65.60000000000001), volume(10), aggressor_side(bid), buyer(), seller()\n",
      "[PHILIPS_B] price(65.60000000000001), volume(10), aggressor_side(bid), buyer(), seller()\n",
      "[PHILIPS_B] price(65.8), volume(10), aggressor_side(bid), buyer(), seller()\n",
      "[PHILIPS_B] price(65.9), volume(10), aggressor_side(bid), buyer(), seller()\n",
      "[PHILIPS_B] price(65.9), volume(10), aggressor_side(bid), buyer(), seller()\n",
      "[PHILIPS_B] price(65.9), volume(10), aggressor_side(bid), buyer(), seller()\n",
      "[PHILIPS_B] price(65.9), volume(10), aggressor_side(bid), buyer(), seller()\n",
      "[PHILIPS_B] price(66.0), volume(10), aggressor_side(bid), buyer(), seller()\n",
      "[PHILIPS_B] price(66.0), volume(10), aggressor_side(bid), buyer(), seller()\n",
      "[PHILIPS_B] price(65.9), volume(10), aggressor_side(bid), buyer(), seller()\n",
      "[PHILIPS_B] price(66.0), volume(10), aggressor_side(bid), buyer(), seller()\n",
      "[PHILIPS_B] price(66.0), volume(10), aggressor_side(bid), buyer(), seller()\n",
      "[PHILIPS_B] price(66.10000000000001), volume(10), aggressor_side(bid), buyer(), seller()\n",
      "[PHILIPS_B] price(66.2), volume(10), aggressor_side(bid), buyer(), seller()\n",
      "[PHILIPS_B] price(66.2), volume(20), aggressor_side(bid), buyer(), seller()\n",
      "[PHILIPS_B] price(66.2), volume(10), aggressor_side(bid), buyer(), seller()\n",
      "[PHILIPS_B] price(66.2), volume(1), aggressor_side(bid), buyer(), seller()\n",
      "[PHILIPS_B] price(66.2), volume(10), aggressor_side(bid), buyer(), seller()\n",
      "[PHILIPS_B] price(66.2), volume(10), aggressor_side(bid), buyer(), seller()\n",
      "[PHILIPS_B] price(66.2), volume(10), aggressor_side(bid), buyer(), seller()\n",
      "[PHILIPS_B] price(66.2), volume(10), aggressor_side(bid), buyer(), seller()\n",
      "[PHILIPS_B] price(66.4), volume(10), aggressor_side(bid), buyer(), seller()\n",
      "[PHILIPS_B] price(66.2), volume(10), aggressor_side(bid), buyer(), seller()\n",
      "[PHILIPS_B] price(66.3), volume(10), aggressor_side(bid), buyer(), seller()\n",
      "[PHILIPS_B] price(66.10000000000001), volume(10), aggressor_side(bid), buyer(), seller()\n",
      "[PHILIPS_B] price(66.10000000000001), volume(10), aggressor_side(bid), buyer(), seller()\n",
      "[PHILIPS_B] price(66.4), volume(10), aggressor_side(bid), buyer(), seller()\n",
      "[PHILIPS_B] price(66.4), volume(10), aggressor_side(bid), buyer(), seller()\n",
      "[PHILIPS_B] price(66.4), volume(10), aggressor_side(bid), buyer(), seller()\n",
      "[PHILIPS_B] price(66.4), volume(20), aggressor_side(bid), buyer(), seller()\n",
      "[PHILIPS_B] price(66.7), volume(10), aggressor_side(bid), buyer(), seller()\n",
      "[PHILIPS_B] price(66.60000000000001), volume(10), aggressor_side(bid), buyer(), seller()\n",
      "[PHILIPS_B] price(66.60000000000001), volume(10), aggressor_side(bid), buyer(), seller()\n",
      "[PHILIPS_B] price(66.7), volume(20), aggressor_side(bid), buyer(), seller()\n",
      "[PHILIPS_B] price(66.8), volume(10), aggressor_side(ask), buyer(), seller()\n",
      "[PHILIPS_B] price(66.9), volume(10), aggressor_side(ask), buyer(), seller()\n",
      "[PHILIPS_B] price(66.7), volume(10), aggressor_side(ask), buyer(), seller()\n",
      "[PHILIPS_B] price(66.8), volume(1), aggressor_side(bid), buyer(), seller()\n",
      "[PHILIPS_B] price(66.8), volume(1), aggressor_side(bid), buyer(), seller()\n",
      "[PHILIPS_B] price(66.8), volume(1), aggressor_side(bid), buyer(), seller()\n",
      "[PHILIPS_B] price(66.8), volume(1), aggressor_side(bid), buyer(), seller()\n",
      "[PHILIPS_B] price(66.8), volume(1), aggressor_side(bid), buyer(), seller()\n",
      "[PHILIPS_B] price(66.8), volume(1), aggressor_side(bid), buyer(), seller()\n",
      "[PHILIPS_B] price(66.8), volume(1), aggressor_side(bid), buyer(), seller()\n",
      "[PHILIPS_B] price(66.8), volume(1), aggressor_side(bid), buyer(), seller()\n",
      "[PHILIPS_B] price(66.7), volume(10), aggressor_side(ask), buyer(), seller()\n",
      "[PHILIPS_B] price(66.8), volume(20), aggressor_side(bid), buyer(), seller()\n",
      "[PHILIPS_B] price(66.8), volume(20), aggressor_side(ask), buyer(), seller()\n",
      "[PHILIPS_B] price(66.5), volume(10), aggressor_side(bid), buyer(), seller()\n",
      "[PHILIPS_B] price(66.4), volume(10), aggressor_side(ask), buyer(), seller()\n",
      "[PHILIPS_B] price(66.4), volume(10), aggressor_side(ask), buyer(), seller()\n",
      "[PHILIPS_B] price(66.4), volume(10), aggressor_side(ask), buyer(), seller()\n",
      "[PHILIPS_B] price(66.5), volume(20), aggressor_side(bid), buyer(), seller()\n",
      "[PHILIPS_B] price(66.5), volume(10), aggressor_side(ask), buyer(), seller()\n",
      "[PHILIPS_B] price(66.5), volume(10), aggressor_side(ask), buyer(), seller()\n",
      "[PHILIPS_B] price(66.5), volume(20), aggressor_side(ask), buyer(), seller()\n",
      "[PHILIPS_B] price(66.0), volume(10), aggressor_side(ask), buyer(), seller()\n",
      "[PHILIPS_B] price(66.2), volume(10), aggressor_side(ask), buyer(), seller()\n"
     ]
    }
   ],
   "source": [
    "# Returns all public tradeticks since the last time this function was called\n",
    "tradeticks = e.poll_new_trade_ticks(instrument_id)\n",
    "for t in tradeticks:\n",
    "    print(f\"[{t.instrument_id}] price({t.price}), volume({t.volume}), aggressor_side({t.aggressor_side}), buyer({t.buyer}), seller({t.seller})\")"
   ]
  },
  {
   "cell_type": "code",
   "execution_count": 71,
   "metadata": {},
   "outputs": [
    {
     "name": "stdout",
     "output_type": "stream",
     "text": [
      "<optibook.common_types.TradeTick object at 0x7f86c8082f28>\n",
      "<optibook.common_types.TradeTick object at 0x7f86c8082ba8>\n",
      "<optibook.common_types.TradeTick object at 0x7f86c8082a90>\n",
      "<optibook.common_types.TradeTick object at 0x7f86c8035320>\n",
      "<optibook.common_types.TradeTick object at 0x7f86c80870f0>\n",
      "<optibook.common_types.TradeTick object at 0x7f86c8077da0>\n",
      "<optibook.common_types.TradeTick object at 0x7f86c8082588>\n",
      "<optibook.common_types.TradeTick object at 0x7f86c806d7f0>\n",
      "<optibook.common_types.TradeTick object at 0x7f86c8082da0>\n",
      "<optibook.common_types.TradeTick object at 0x7f86c8041a90>\n",
      "<optibook.common_types.TradeTick object at 0x7f86c806d390>\n",
      "<optibook.common_types.TradeTick object at 0x7f86c8041b70>\n",
      "<optibook.common_types.TradeTick object at 0x7f86c806fe80>\n",
      "<optibook.common_types.TradeTick object at 0x7f86c8082e48>\n",
      "<optibook.common_types.TradeTick object at 0x7f86c806ee48>\n",
      "<optibook.common_types.TradeTick object at 0x7f86c8082eb8>\n",
      "<optibook.common_types.TradeTick object at 0x7f86c8087a20>\n",
      "<optibook.common_types.TradeTick object at 0x7f86c8082128>\n",
      "<optibook.common_types.TradeTick object at 0x7f86c80439b0>\n",
      "<optibook.common_types.TradeTick object at 0x7f86c8087d68>\n",
      "<optibook.common_types.TradeTick object at 0x7f86c806fe10>\n",
      "<optibook.common_types.TradeTick object at 0x7f86c8077dd8>\n",
      "<optibook.common_types.TradeTick object at 0x7f86c8035278>\n",
      "<optibook.common_types.TradeTick object at 0x7f86c806d080>\n",
      "<optibook.common_types.TradeTick object at 0x7f86c8077e48>\n",
      "<optibook.common_types.TradeTick object at 0x7f86c80957f0>\n",
      "<optibook.common_types.TradeTick object at 0x7f86c80878d0>\n",
      "<optibook.common_types.TradeTick object at 0x7f86c809ed30>\n",
      "<optibook.common_types.TradeTick object at 0x7f86c8087438>\n",
      "<optibook.common_types.TradeTick object at 0x7f86c8082fd0>\n",
      "<optibook.common_types.TradeTick object at 0x7f86c80358d0>\n",
      "<optibook.common_types.TradeTick object at 0x7f86c803a048>\n",
      "<optibook.common_types.TradeTick object at 0x7f86c8077320>\n",
      "<optibook.common_types.TradeTick object at 0x7f86c808a048>\n",
      "<optibook.common_types.TradeTick object at 0x7f86c808af60>\n",
      "<optibook.common_types.TradeTick object at 0x7f86c806e2b0>\n",
      "<optibook.common_types.TradeTick object at 0x7f86c806e518>\n",
      "<optibook.common_types.TradeTick object at 0x7f86c80776d8>\n",
      "<optibook.common_types.TradeTick object at 0x7f86c808af98>\n",
      "<optibook.common_types.TradeTick object at 0x7f86c808e0b8>\n",
      "<optibook.common_types.TradeTick object at 0x7f86c808e080>\n",
      "<optibook.common_types.TradeTick object at 0x7f86c806e5f8>\n",
      "<optibook.common_types.TradeTick object at 0x7f86c808ad68>\n",
      "<optibook.common_types.TradeTick object at 0x7f86c808aac8>\n",
      "<optibook.common_types.TradeTick object at 0x7f86c808e278>\n",
      "<optibook.common_types.TradeTick object at 0x7f86c80820b8>\n",
      "<optibook.common_types.TradeTick object at 0x7f86c8098400>\n",
      "<optibook.common_types.TradeTick object at 0x7f86c808e898>\n",
      "<optibook.common_types.TradeTick object at 0x7f86c8046eb8>\n",
      "<optibook.common_types.TradeTick object at 0x7f86c808ecc0>\n",
      "<optibook.common_types.TradeTick object at 0x7f86c808a3c8>\n",
      "<optibook.common_types.TradeTick object at 0x7f86c806f908>\n",
      "<optibook.common_types.TradeTick object at 0x7f86c808a4e0>\n",
      "<optibook.common_types.TradeTick object at 0x7f86c803acc0>\n",
      "<optibook.common_types.TradeTick object at 0x7f86c8098080>\n",
      "<optibook.common_types.TradeTick object at 0x7f86c803add8>\n",
      "<optibook.common_types.TradeTick object at 0x7f86c8095c50>\n",
      "<optibook.common_types.TradeTick object at 0x7f86c808eb38>\n",
      "<optibook.common_types.TradeTick object at 0x7f86c808ee48>\n",
      "<optibook.common_types.TradeTick object at 0x7f86c8035898>\n",
      "<optibook.common_types.TradeTick object at 0x7f86c8098b00>\n",
      "<optibook.common_types.TradeTick object at 0x7f86c803ab38>\n",
      "<optibook.common_types.TradeTick object at 0x7f86c8098198>\n",
      "<optibook.common_types.TradeTick object at 0x7f86c80986d8>\n",
      "<optibook.common_types.TradeTick object at 0x7f86c802fdd8>\n",
      "<optibook.common_types.TradeTick object at 0x7f86c84e7e48>\n",
      "<optibook.common_types.TradeTick object at 0x7f86c809a128>\n",
      "<optibook.common_types.TradeTick object at 0x7f86c803af98>\n",
      "<optibook.common_types.TradeTick object at 0x7f86c8043e80>\n",
      "<optibook.common_types.TradeTick object at 0x7f86c808ec18>\n",
      "<optibook.common_types.TradeTick object at 0x7f86cba21400>\n",
      "<optibook.common_types.TradeTick object at 0x7f86c80413c8>\n",
      "<optibook.common_types.TradeTick object at 0x7f86c8041390>\n",
      "<optibook.common_types.TradeTick object at 0x7f86c8082978>\n",
      "<optibook.common_types.TradeTick object at 0x7f86c8041ef0>\n",
      "<optibook.common_types.TradeTick object at 0x7f86c809abe0>\n",
      "<optibook.common_types.TradeTick object at 0x7f86c8095a20>\n",
      "<optibook.common_types.TradeTick object at 0x7f86c809a8d0>\n",
      "<optibook.common_types.TradeTick object at 0x7f86c84e77f0>\n",
      "<optibook.common_types.TradeTick object at 0x7f86c85add30>\n",
      "<optibook.common_types.TradeTick object at 0x7f86c806d6a0>\n",
      "<optibook.common_types.TradeTick object at 0x7f86c806dcc0>\n",
      "<optibook.common_types.TradeTick object at 0x7f86c80773c8>\n",
      "<optibook.common_types.TradeTick object at 0x7f86c809a320>\n",
      "<optibook.common_types.TradeTick object at 0x7f86c806e470>\n",
      "<optibook.common_types.TradeTick object at 0x7f86c8077780>\n",
      "<optibook.common_types.TradeTick object at 0x7f86c803a940>\n",
      "<optibook.common_types.TradeTick object at 0x7f86c84e7a90>\n",
      "<optibook.common_types.TradeTick object at 0x7f86c8077630>\n",
      "<optibook.common_types.TradeTick object at 0x7f86c80982e8>\n",
      "<optibook.common_types.TradeTick object at 0x7f86c809a668>\n",
      "<optibook.common_types.TradeTick object at 0x7f86c806d518>\n",
      "<optibook.common_types.TradeTick object at 0x7f86c806eac8>\n",
      "<optibook.common_types.TradeTick object at 0x7f86c803aef0>\n",
      "<optibook.common_types.TradeTick object at 0x7f86c8041160>\n",
      "<optibook.common_types.TradeTick object at 0x7f86c809ef60>\n",
      "<optibook.common_types.TradeTick object at 0x7f86c808ef98>\n",
      "<optibook.common_types.TradeTick object at 0x7f86c80953c8>\n",
      "<optibook.common_types.TradeTick object at 0x7f86c808e320>\n",
      "<optibook.common_types.TradeTick object at 0x7f86c84da7f0>\n"
     ]
    }
   ],
   "source": [
    "# Returns all public tradeticks since the instantiation of the Exchange\n",
    "tradeticks = e.get_trade_tick_history(instrument_id)\n",
    "for t in tradeticks:\n",
    "    print(t)"
   ]
  },
  {
   "cell_type": "code",
   "execution_count": 23,
   "metadata": {},
   "outputs": [],
   "source": [
    "# See all your outstanding orders\n",
    "outstanding = e.get_outstanding_orders(instrument_id)\n",
    "for o in outstanding.values():\n",
    "    print(f\"Outstanding order: order_id({o.order_id}), instrument_id({o.instrument_id}), price({o.price}), volume({o.volume}), side({o.side})\")"
   ]
  },
  {
   "cell_type": "markdown",
   "metadata": {},
   "source": [
    "## Inserting and Deleting Orders"
   ]
  },
  {
   "cell_type": "code",
   "execution_count": 34,
   "metadata": {},
   "outputs": [
    {
     "ename": "AssertionError",
     "evalue": "Cannot call function until connected. Call connect() first",
     "output_type": "error",
     "traceback": [
      "\u001b[0;31m---------------------------------------------------------------------------\u001b[0m",
      "\u001b[0;31mAssertionError\u001b[0m                            Traceback (most recent call last)",
      "\u001b[0;32m<ipython-input-34-25096b322bf3>\u001b[0m in \u001b[0;36m<module>\u001b[0;34m\u001b[0m\n\u001b[1;32m      1\u001b[0m \u001b[0;31m# Insert bid limit order - This trades against any current orders, and any remainders become new resting orders in the book\u001b[0m\u001b[0;34m\u001b[0m\u001b[0;34m\u001b[0m\u001b[0;34m\u001b[0m\u001b[0m\n\u001b[1;32m      2\u001b[0m \u001b[0;31m# Use this to buy.\u001b[0m\u001b[0;34m\u001b[0m\u001b[0;34m\u001b[0m\u001b[0;34m\u001b[0m\u001b[0m\n\u001b[0;32m----> 3\u001b[0;31m \u001b[0mresult\u001b[0m \u001b[0;34m=\u001b[0m \u001b[0me\u001b[0m\u001b[0;34m.\u001b[0m\u001b[0minsert_order\u001b[0m\u001b[0;34m(\u001b[0m\u001b[0minstrument_id\u001b[0m\u001b[0;34m,\u001b[0m \u001b[0mprice\u001b[0m\u001b[0;34m=\u001b[0m\u001b[0;36m73\u001b[0m\u001b[0;34m,\u001b[0m \u001b[0mvolume\u001b[0m\u001b[0;34m=\u001b[0m\u001b[0;36m100\u001b[0m\u001b[0;34m,\u001b[0m \u001b[0mside\u001b[0m\u001b[0;34m=\u001b[0m\u001b[0;34m'bid'\u001b[0m\u001b[0;34m,\u001b[0m \u001b[0morder_type\u001b[0m\u001b[0;34m=\u001b[0m\u001b[0;34m'limit'\u001b[0m\u001b[0;34m)\u001b[0m\u001b[0;34m\u001b[0m\u001b[0;34m\u001b[0m\u001b[0m\n\u001b[0m\u001b[1;32m      4\u001b[0m \u001b[0mprint\u001b[0m\u001b[0;34m(\u001b[0m\u001b[0;34mf\"Order Id: {result}\"\u001b[0m\u001b[0;34m)\u001b[0m\u001b[0;34m\u001b[0m\u001b[0;34m\u001b[0m\u001b[0m\n",
      "\u001b[0;32m/usr/local/lib/python3.6/site-packages/optibook/synchronous_client.py\u001b[0m in \u001b[0;36minsert_order\u001b[0;34m(self, instrument_id, price, volume, side, order_type)\u001b[0m\n\u001b[1;32m     77\u001b[0m         \u001b[0;34m:\u001b[0m\u001b[0;32mreturn\u001b[0m\u001b[0;34m:\u001b[0m \u001b[0man\u001b[0m \u001b[0mInsertOrderReply\u001b[0m \u001b[0mcontaining\u001b[0m \u001b[0ma\u001b[0m \u001b[0mrequest_id\u001b[0m \u001b[0;32mas\u001b[0m \u001b[0mwell\u001b[0m \u001b[0;32mas\u001b[0m \u001b[0man\u001b[0m \u001b[0morder_id\u001b[0m\u001b[0;34m,\u001b[0m \u001b[0mthe\u001b[0m \u001b[0morder_id\u001b[0m \u001b[0mcan\u001b[0m \u001b[0mbe\u001b[0m \u001b[0mused\u001b[0m \u001b[0mto\u001b[0m \u001b[0me\u001b[0m\u001b[0;34m.\u001b[0m\u001b[0mg\u001b[0m\u001b[0;34m.\u001b[0m \u001b[0mdelete\u001b[0m \u001b[0;32mor\u001b[0m \u001b[0mamend\u001b[0m \u001b[0mthe\u001b[0m \u001b[0mlimit\u001b[0m \u001b[0morder\u001b[0m \u001b[0mlater\u001b[0m\u001b[0;34m.\u001b[0m\u001b[0;34m\u001b[0m\u001b[0;34m\u001b[0m\u001b[0m\n\u001b[1;32m     78\u001b[0m         \"\"\"\n\u001b[0;32m---> 79\u001b[0;31m         \u001b[0;32massert\u001b[0m \u001b[0mself\u001b[0m\u001b[0;34m.\u001b[0m\u001b[0mis_connected\u001b[0m\u001b[0;34m(\u001b[0m\u001b[0;34m)\u001b[0m\u001b[0;34m,\u001b[0m \u001b[0;34m\"Cannot call function until connected. Call connect() first\"\u001b[0m\u001b[0;34m\u001b[0m\u001b[0;34m\u001b[0m\u001b[0m\n\u001b[0m\u001b[1;32m     80\u001b[0m         \u001b[0;32massert\u001b[0m\u001b[0;34m(\u001b[0m\u001b[0mside\u001b[0m \u001b[0;32min\u001b[0m \u001b[0mexchange_client\u001b[0m\u001b[0;34m.\u001b[0m\u001b[0mALL_SIDES\u001b[0m\u001b[0;34m)\u001b[0m\u001b[0;34m,\u001b[0m \u001b[0;34mf\"Invalid value ({side}) for parameter 'side'. Use synchronous_client.BID or synchronous_client.ASK\"\u001b[0m\u001b[0;34m\u001b[0m\u001b[0;34m\u001b[0m\u001b[0m\n\u001b[1;32m     81\u001b[0m         \u001b[0;32massert\u001b[0m \u001b[0morder_type\u001b[0m \u001b[0;32min\u001b[0m \u001b[0mexchange_client\u001b[0m\u001b[0;34m.\u001b[0m\u001b[0mALL_ORDER_TYPES\u001b[0m\u001b[0;34m,\u001b[0m \u001b[0;34mf\"order_type must be one of {exchange_client.ALL_ORDER_TYPES}\"\u001b[0m\u001b[0;34m\u001b[0m\u001b[0;34m\u001b[0m\u001b[0m\n",
      "\u001b[0;31mAssertionError\u001b[0m: Cannot call function until connected. Call connect() first"
     ]
    }
   ],
   "source": [
    "# Insert bid limit order - This trades against any current orders, and any remainders become new resting orders in the book\n",
    "# Use this to buy.\n",
    "result = e.insert_order(instrument_id, price=73, volume=100, side='bid', order_type='limit')\n",
    "print(f\"Order Id: {result}\")"
   ]
  },
  {
   "cell_type": "code",
   "execution_count": 171,
   "metadata": {},
   "outputs": [
    {
     "name": "stdout",
     "output_type": "stream",
     "text": [
      "Order Id: 208246\n"
     ]
    }
   ],
   "source": [
    "# Insert ask limit order - This trades against any current orders, and any remainders become new resting orders in the book\n",
    "# Use this to sell.\n",
    "result = e.insert_order(instrument_id, price=75, volume=100, side='ask', order_type='limit')\n",
    "print(f\"Order Id: {result}\")"
   ]
  },
  {
   "cell_type": "code",
   "execution_count": 80,
   "metadata": {},
   "outputs": [
    {
     "name": "stdout",
     "output_type": "stream",
     "text": [
      "Order Id: 181167\n"
     ]
    }
   ],
   "source": [
    "# Insert bid IOC - This can trade against any resting volume but does not remain in the book\n",
    "# Use this to buy.\n",
    "result = e.insert_order(instrument_id, price=65, volume=10, side='bid', order_type='ioc')\n",
    "print(f\"Order Id: {result}\")"
   ]
  },
  {
   "cell_type": "code",
   "execution_count": 33,
   "metadata": {},
   "outputs": [
    {
     "name": "stderr",
     "output_type": "stream",
     "text": [
      "2021-01-23 18:04:49,491 [client    ] [Thread-6    ] Forcing a disconnect due to an error: Pre-trade position limit (-500) breached on instrument PHILIPS_A. Old position=-450 New position=-550.\n"
     ]
    },
    {
     "ename": "KjException",
     "evalue": "(remote):0: failed: remote exception: std::exception: Pre-trade position limit (-500) breached on instrument PHILIPS_A. Old position=-450 New position=-550\nstack: 7f25633e3e80 7f25633e27b0 7f2563369666 7f2563358572 7f25633586a9 7f256334c6a4 7f25632a8069 7f25632af998 7f258d6e87b4 7f258d658cfe 7f25801d8e5a 7f25801da501 7f258d647f32 7f258d6e4aea 7f258d6ee0d9 7f258d6ee502 7f258d6e2e96 7f258d6ee0d9 7f258d6ee502 7f258d6e2e96 7f258d6ee0d9 7f258d6ee502 7f258d6e2e96 7f258d6ee0d9 7f258d6ee502 7f258d6e2e96 7f258d6ef691 7f258d6481ad 7f258d6482b1 7f258d647f32 7f258d6e4aea 7f258d6ee0d9",
     "output_type": "error",
     "traceback": [
      "\u001b[0;31m---------------------------------------------------------------------------\u001b[0m",
      "\u001b[0;31mKjException\u001b[0m                               Traceback (most recent call last)",
      "\u001b[0;32m<ipython-input-33-be7b5d9151dd>\u001b[0m in \u001b[0;36m<module>\u001b[0;34m\u001b[0m\n\u001b[1;32m      1\u001b[0m \u001b[0;31m# Insert ask IOC - This can trade against any resting volume but does not remain in the book\u001b[0m\u001b[0;34m\u001b[0m\u001b[0;34m\u001b[0m\u001b[0;34m\u001b[0m\u001b[0m\n\u001b[1;32m      2\u001b[0m \u001b[0;31m# Use this to sell.\u001b[0m\u001b[0;34m\u001b[0m\u001b[0;34m\u001b[0m\u001b[0;34m\u001b[0m\u001b[0m\n\u001b[0;32m----> 3\u001b[0;31m \u001b[0mresult\u001b[0m \u001b[0;34m=\u001b[0m \u001b[0me\u001b[0m\u001b[0;34m.\u001b[0m\u001b[0minsert_order\u001b[0m\u001b[0;34m(\u001b[0m\u001b[0minstrument_id\u001b[0m\u001b[0;34m,\u001b[0m \u001b[0mprice\u001b[0m\u001b[0;34m=\u001b[0m\u001b[0;36m68\u001b[0m\u001b[0;34m,\u001b[0m \u001b[0mvolume\u001b[0m\u001b[0;34m=\u001b[0m\u001b[0;36m100\u001b[0m\u001b[0;34m,\u001b[0m \u001b[0mside\u001b[0m\u001b[0;34m=\u001b[0m\u001b[0;34m'ask'\u001b[0m\u001b[0;34m,\u001b[0m \u001b[0morder_type\u001b[0m\u001b[0;34m=\u001b[0m\u001b[0;34m'ioc'\u001b[0m\u001b[0;34m)\u001b[0m\u001b[0;34m\u001b[0m\u001b[0;34m\u001b[0m\u001b[0m\n\u001b[0m\u001b[1;32m      4\u001b[0m \u001b[0mprint\u001b[0m\u001b[0;34m(\u001b[0m\u001b[0;34mf\"Order Id: {result}\"\u001b[0m\u001b[0;34m)\u001b[0m\u001b[0;34m\u001b[0m\u001b[0;34m\u001b[0m\u001b[0m\n",
      "\u001b[0;32m/usr/local/lib/python3.6/site-packages/optibook/synchronous_client.py\u001b[0m in \u001b[0;36minsert_order\u001b[0;34m(self, instrument_id, price, volume, side, order_type)\u001b[0m\n\u001b[1;32m     82\u001b[0m \u001b[0;34m\u001b[0m\u001b[0m\n\u001b[1;32m     83\u001b[0m         return self._wrapper.run_on_loop(\n\u001b[0;32m---> 84\u001b[0;31m             \u001b[0mself\u001b[0m\u001b[0;34m.\u001b[0m\u001b[0m_e\u001b[0m\u001b[0;34m.\u001b[0m\u001b[0minsert_order\u001b[0m\u001b[0;34m(\u001b[0m\u001b[0minstrument_id\u001b[0m\u001b[0;34m=\u001b[0m\u001b[0minstrument_id\u001b[0m\u001b[0;34m,\u001b[0m \u001b[0mprice\u001b[0m\u001b[0;34m=\u001b[0m\u001b[0mprice\u001b[0m\u001b[0;34m,\u001b[0m \u001b[0mvolume\u001b[0m\u001b[0;34m=\u001b[0m\u001b[0mvolume\u001b[0m\u001b[0;34m,\u001b[0m \u001b[0mside\u001b[0m\u001b[0;34m=\u001b[0m\u001b[0mside\u001b[0m\u001b[0;34m,\u001b[0m \u001b[0morder_type\u001b[0m\u001b[0;34m=\u001b[0m\u001b[0morder_type\u001b[0m\u001b[0;34m)\u001b[0m\u001b[0;34m\u001b[0m\u001b[0;34m\u001b[0m\u001b[0m\n\u001b[0m\u001b[1;32m     85\u001b[0m         )\n\u001b[1;32m     86\u001b[0m \u001b[0;34m\u001b[0m\u001b[0m\n",
      "\u001b[0;32m/usr/local/lib/python3.6/site-packages/optibook/synchronous_wrapper.py\u001b[0m in \u001b[0;36mrun_on_loop\u001b[0;34m(self, awaitable)\u001b[0m\n\u001b[1;32m     71\u001b[0m         \u001b[0mself\u001b[0m\u001b[0;34m.\u001b[0m\u001b[0m_loop\u001b[0m\u001b[0;34m.\u001b[0m\u001b[0mcall_soon_threadsafe\u001b[0m\u001b[0;34m(\u001b[0m\u001b[0mcallback\u001b[0m\u001b[0;34m)\u001b[0m\u001b[0;34m\u001b[0m\u001b[0;34m\u001b[0m\u001b[0m\n\u001b[1;32m     72\u001b[0m \u001b[0;34m\u001b[0m\u001b[0m\n\u001b[0;32m---> 73\u001b[0;31m         \u001b[0mret\u001b[0m \u001b[0;34m=\u001b[0m \u001b[0mfut\u001b[0m\u001b[0;34m.\u001b[0m\u001b[0mresult\u001b[0m\u001b[0;34m(\u001b[0m\u001b[0;34m)\u001b[0m\u001b[0;34m\u001b[0m\u001b[0;34m\u001b[0m\u001b[0m\n\u001b[0m\u001b[1;32m     74\u001b[0m         \u001b[0mend_time\u001b[0m \u001b[0;34m=\u001b[0m \u001b[0mdatetime\u001b[0m\u001b[0;34m.\u001b[0m\u001b[0mdatetime\u001b[0m\u001b[0;34m.\u001b[0m\u001b[0mnow\u001b[0m\u001b[0;34m(\u001b[0m\u001b[0;34m)\u001b[0m\u001b[0;34m\u001b[0m\u001b[0;34m\u001b[0m\u001b[0m\n\u001b[1;32m     75\u001b[0m         \u001b[0mdiff\u001b[0m \u001b[0;34m=\u001b[0m \u001b[0mend_time\u001b[0m \u001b[0;34m-\u001b[0m \u001b[0mstart_time\u001b[0m\u001b[0;34m\u001b[0m\u001b[0;34m\u001b[0m\u001b[0m\n",
      "\u001b[0;32m/usr/lib64/python3.6/concurrent/futures/_base.py\u001b[0m in \u001b[0;36mresult\u001b[0;34m(self, timeout)\u001b[0m\n\u001b[1;32m    430\u001b[0m                 \u001b[0;32mraise\u001b[0m \u001b[0mCancelledError\u001b[0m\u001b[0;34m(\u001b[0m\u001b[0;34m)\u001b[0m\u001b[0;34m\u001b[0m\u001b[0;34m\u001b[0m\u001b[0m\n\u001b[1;32m    431\u001b[0m             \u001b[0;32melif\u001b[0m \u001b[0mself\u001b[0m\u001b[0;34m.\u001b[0m\u001b[0m_state\u001b[0m \u001b[0;34m==\u001b[0m \u001b[0mFINISHED\u001b[0m\u001b[0;34m:\u001b[0m\u001b[0;34m\u001b[0m\u001b[0;34m\u001b[0m\u001b[0m\n\u001b[0;32m--> 432\u001b[0;31m                 \u001b[0;32mreturn\u001b[0m \u001b[0mself\u001b[0m\u001b[0;34m.\u001b[0m\u001b[0m__get_result\u001b[0m\u001b[0;34m(\u001b[0m\u001b[0;34m)\u001b[0m\u001b[0;34m\u001b[0m\u001b[0;34m\u001b[0m\u001b[0m\n\u001b[0m\u001b[1;32m    433\u001b[0m             \u001b[0;32melse\u001b[0m\u001b[0;34m:\u001b[0m\u001b[0;34m\u001b[0m\u001b[0;34m\u001b[0m\u001b[0m\n\u001b[1;32m    434\u001b[0m                 \u001b[0;32mraise\u001b[0m \u001b[0mTimeoutError\u001b[0m\u001b[0;34m(\u001b[0m\u001b[0;34m)\u001b[0m\u001b[0;34m\u001b[0m\u001b[0;34m\u001b[0m\u001b[0m\n",
      "\u001b[0;32m/usr/lib64/python3.6/concurrent/futures/_base.py\u001b[0m in \u001b[0;36m__get_result\u001b[0;34m(self)\u001b[0m\n\u001b[1;32m    382\u001b[0m     \u001b[0;32mdef\u001b[0m \u001b[0m__get_result\u001b[0m\u001b[0;34m(\u001b[0m\u001b[0mself\u001b[0m\u001b[0;34m)\u001b[0m\u001b[0;34m:\u001b[0m\u001b[0;34m\u001b[0m\u001b[0;34m\u001b[0m\u001b[0m\n\u001b[1;32m    383\u001b[0m         \u001b[0;32mif\u001b[0m \u001b[0mself\u001b[0m\u001b[0;34m.\u001b[0m\u001b[0m_exception\u001b[0m\u001b[0;34m:\u001b[0m\u001b[0;34m\u001b[0m\u001b[0;34m\u001b[0m\u001b[0m\n\u001b[0;32m--> 384\u001b[0;31m             \u001b[0;32mraise\u001b[0m \u001b[0mself\u001b[0m\u001b[0;34m.\u001b[0m\u001b[0m_exception\u001b[0m\u001b[0;34m\u001b[0m\u001b[0;34m\u001b[0m\u001b[0m\n\u001b[0m\u001b[1;32m    385\u001b[0m         \u001b[0;32melse\u001b[0m\u001b[0;34m:\u001b[0m\u001b[0;34m\u001b[0m\u001b[0;34m\u001b[0m\u001b[0m\n\u001b[1;32m    386\u001b[0m             \u001b[0;32mreturn\u001b[0m \u001b[0mself\u001b[0m\u001b[0;34m.\u001b[0m\u001b[0m_result\u001b[0m\u001b[0;34m\u001b[0m\u001b[0;34m\u001b[0m\u001b[0m\n",
      "\u001b[0;32m/usr/local/lib/python3.6/site-packages/optibook/exchange_client.py\u001b[0m in \u001b[0;36minsert_order\u001b[0;34m(self, instrument_id, price, volume, side, order_type)\u001b[0m\n\u001b[1;32m    226\u001b[0m         \u001b[0;32massert\u001b[0m \u001b[0mside\u001b[0m \u001b[0;32min\u001b[0m \u001b[0mALL_SIDES\u001b[0m\u001b[0;34m,\u001b[0m \u001b[0;34mf\"side must be one of {ALL_SIDES}\"\u001b[0m\u001b[0;34m\u001b[0m\u001b[0;34m\u001b[0m\u001b[0m\n\u001b[1;32m    227\u001b[0m         \u001b[0;32massert\u001b[0m \u001b[0morder_type\u001b[0m \u001b[0;32min\u001b[0m \u001b[0mALL_ORDER_TYPES\u001b[0m\u001b[0;34m,\u001b[0m \u001b[0;34mf\"order_type must be one of {ALL_ORDER_TYPES}\"\u001b[0m\u001b[0;34m\u001b[0m\u001b[0;34m\u001b[0m\u001b[0m\n\u001b[0;32m--> 228\u001b[0;31m         \u001b[0;32mreturn\u001b[0m \u001b[0;34m(\u001b[0m\u001b[0mawait\u001b[0m \u001b[0mself\u001b[0m\u001b[0;34m.\u001b[0m\u001b[0m_exec\u001b[0m\u001b[0;34m.\u001b[0m\u001b[0minsertOrder\u001b[0m\u001b[0;34m(\u001b[0m\u001b[0minstrument_id\u001b[0m\u001b[0;34m,\u001b[0m \u001b[0mprice\u001b[0m\u001b[0;34m,\u001b[0m \u001b[0mvolume\u001b[0m\u001b[0;34m,\u001b[0m \u001b[0mside\u001b[0m\u001b[0;34m,\u001b[0m \u001b[0morder_type\u001b[0m\u001b[0;34m)\u001b[0m\u001b[0;34m.\u001b[0m\u001b[0ma_wait\u001b[0m\u001b[0;34m(\u001b[0m\u001b[0;34m)\u001b[0m\u001b[0;34m)\u001b[0m\u001b[0;34m.\u001b[0m\u001b[0morderId\u001b[0m\u001b[0;34m\u001b[0m\u001b[0;34m\u001b[0m\u001b[0m\n\u001b[0m\u001b[1;32m    229\u001b[0m \u001b[0;34m\u001b[0m\u001b[0m\n\u001b[1;32m    230\u001b[0m     \u001b[0;34masync\u001b[0m \u001b[0;32mdef\u001b[0m \u001b[0mamend_order\u001b[0m\u001b[0;34m(\u001b[0m\u001b[0mself\u001b[0m\u001b[0;34m,\u001b[0m \u001b[0minstrument_id\u001b[0m\u001b[0;34m,\u001b[0m \u001b[0morder_id\u001b[0m\u001b[0;34m,\u001b[0m \u001b[0mvolume\u001b[0m\u001b[0;34m)\u001b[0m\u001b[0;34m:\u001b[0m\u001b[0;34m\u001b[0m\u001b[0;34m\u001b[0m\u001b[0m\n",
      "\u001b[0;32m/usr/local/lib64/python3.6/site-packages/capnp/lib/capnp.pyx\u001b[0m in \u001b[0;36ma_wait\u001b[0;34m()\u001b[0m\n",
      "\u001b[0;31mKjException\u001b[0m: (remote):0: failed: remote exception: std::exception: Pre-trade position limit (-500) breached on instrument PHILIPS_A. Old position=-450 New position=-550\nstack: 7f25633e3e80 7f25633e27b0 7f2563369666 7f2563358572 7f25633586a9 7f256334c6a4 7f25632a8069 7f25632af998 7f258d6e87b4 7f258d658cfe 7f25801d8e5a 7f25801da501 7f258d647f32 7f258d6e4aea 7f258d6ee0d9 7f258d6ee502 7f258d6e2e96 7f258d6ee0d9 7f258d6ee502 7f258d6e2e96 7f258d6ee0d9 7f258d6ee502 7f258d6e2e96 7f258d6ee0d9 7f258d6ee502 7f258d6e2e96 7f258d6ef691 7f258d6481ad 7f258d6482b1 7f258d647f32 7f258d6e4aea 7f258d6ee0d9"
     ]
    }
   ],
   "source": [
    "# Insert ask IOC - This can trade against any resting volume but does not remain in the book\n",
    "# Use this to sell.\n",
    "result = e.insert_order(instrument_id, price=68, volume=100, side='ask', order_type='ioc')\n",
    "print(f\"Order Id: {result}\")"
   ]
  },
  {
   "cell_type": "code",
   "execution_count": null,
   "metadata": {},
   "outputs": [],
   "source": [
    "# Attempt to delete inserted order by order_id\n",
    "order_id = 4\n",
    "result = e.delete_order(instrument_id, order_id=order_id)\n",
    "print()\n",
    "print(f\"Deleted order id {order_id}: {result}\")"
   ]
  },
  {
   "cell_type": "code",
   "execution_count": null,
   "metadata": {},
   "outputs": [],
   "source": [
    "# Change volume for existing order\n",
    "order_id = 5\n",
    "new_volume = 16\n",
    "result = e.amend_order(instrument_id, order_id=order_id, volume=new_volume)\n",
    "print(f\"Changed volume for order id {order_id} to {new_volume} lots: {result}\")"
   ]
  },
  {
   "cell_type": "code",
   "execution_count": null,
   "metadata": {},
   "outputs": [],
   "source": [
    "# Delete all outstanding orders\n",
    "outstanding = e.get_outstanding_orders(instrument_id)\n",
    "for o in outstanding.values():\n",
    "    result = e.delete_order(instrument_id, order_id=o.order_id)\n",
    "    print(f\"Deleted order id {o.order_id}: {result}\")"
   ]
  },
  {
   "cell_type": "markdown",
   "metadata": {},
   "source": [
    "## 'Hack' Out of Positions"
   ]
  },
  {
   "cell_type": "code",
   "execution_count": 147,
   "metadata": {},
   "outputs": [
    {
     "name": "stdout",
     "output_type": "stream",
     "text": [
      "{'PHILIPS_A': 0, 'PHILIPS_B': 0}\n",
      "{'PHILIPS_A': 0, 'PHILIPS_B': 0}\n"
     ]
    }
   ],
   "source": [
    "# Get out of all positions you are currently holding, regarless of the loss involved. That means selling whatever\n",
    "# you are long, and buying-back whatever you are short. Be sure you know what you are doing when you use this logic.\n",
    "print(e.get_positions())\n",
    "for s, p in e.get_positions().items():\n",
    "    if p > 0:\n",
    "        e.insert_order(s, price=1, volume=p, side='ask', order_type='ioc')\n",
    "    elif p < 0:\n",
    "        e.insert_order(s, price=100000, volume=-p, side='bid', order_type='ioc')  \n",
    "print(e.get_positions())"
   ]
  },
  {
   "cell_type": "code",
   "execution_count": null,
   "metadata": {},
   "outputs": [],
   "source": []
  }
 ],
 "metadata": {
  "kernelspec": {
   "display_name": "Python 3",
   "language": "python",
   "name": "python3"
  },
  "language_info": {
   "codemirror_mode": {
    "name": "ipython",
    "version": 3
   },
   "file_extension": ".py",
   "mimetype": "text/x-python",
   "name": "python",
   "nbconvert_exporter": "python",
   "pygments_lexer": "ipython3",
   "version": "3.6.12"
  }
 },
 "nbformat": 4,
 "nbformat_minor": 4
}
