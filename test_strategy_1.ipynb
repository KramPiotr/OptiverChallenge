{
 "cells": [
  {
   "cell_type": "code",
   "execution_count": 13,
   "id": "acute-accident",
   "metadata": {},
   "outputs": [
    {
     "name": "stderr",
     "output_type": "stream",
     "text": [
      "2021-01-24 10:55:16,509 [asyncio   ] [MainThread  ] Using selector: EpollSelector\n",
      "2021-01-24 10:55:16,510 [client    ] [Thread-5    ] background thread started\n",
      "2021-01-24 10:55:16,519 [client    ] [Thread-5    ] opened connection\n",
      "2021-01-24 10:55:16,520 [client    ] [Thread-5    ] start read <StreamReader t=<_SelectorSocketTransport fd=106 read=polling write=<idle, bufsize=0>>>\n",
      "2021-01-24 10:55:16,522 [client    ] [Thread-5    ] logged in!\n"
     ]
    }
   ],
   "source": [
    "from trading_strategy_1 import *\n",
    "\n",
    "exchange = Exchange()\n",
    "exchange.connect()"
   ]
  },
  {
   "cell_type": "code",
   "execution_count": 7,
   "id": "binary-greensboro",
   "metadata": {},
   "outputs": [
    {
     "name": "stdout",
     "output_type": "stream",
     "text": [
      "Setup was successful.\n"
     ]
    },
    {
     "ename": "TypeError",
     "evalue": "unsupported operand type(s) for -: 'builtin_function_or_method' and 'datetime.datetime'",
     "output_type": "error",
     "traceback": [
      "\u001b[0;31m---------------------------------------------------------------------------\u001b[0m",
      "\u001b[0;31mTypeError\u001b[0m                                 Traceback (most recent call last)",
      "\u001b[0;32m<ipython-input-7-dd87172616be>\u001b[0m in \u001b[0;36m<module>\u001b[0;34m\u001b[0m\n\u001b[1;32m      4\u001b[0m \u001b[0;31m#connect()\u001b[0m\u001b[0;34m\u001b[0m\u001b[0;34m\u001b[0m\u001b[0;34m\u001b[0m\u001b[0m\n\u001b[1;32m      5\u001b[0m \u001b[0;34m\u001b[0m\u001b[0m\n\u001b[0;32m----> 6\u001b[0;31m \u001b[0mIA\u001b[0m \u001b[0;34m=\u001b[0m \u001b[0mInstrument_\u001b[0m\u001b[0;34m(\u001b[0m\u001b[0mPA\u001b[0m\u001b[0;34m,\u001b[0m \u001b[0mParams\u001b[0m\u001b[0;34m(\u001b[0m\u001b[0;34m)\u001b[0m\u001b[0;34m)\u001b[0m\u001b[0;34m\u001b[0m\u001b[0;34m\u001b[0m\u001b[0m\n\u001b[0m\u001b[1;32m      7\u001b[0m \u001b[0mIB\u001b[0m \u001b[0;34m=\u001b[0m \u001b[0mInstrument_\u001b[0m\u001b[0;34m(\u001b[0m\u001b[0mPB\u001b[0m\u001b[0;34m,\u001b[0m \u001b[0mParams\u001b[0m\u001b[0;34m(\u001b[0m\u001b[0;34m)\u001b[0m\u001b[0;34m)\u001b[0m\u001b[0;34m\u001b[0m\u001b[0;34m\u001b[0m\u001b[0m\n\u001b[1;32m      8\u001b[0m \u001b[0minstruments\u001b[0m \u001b[0;34m=\u001b[0m \u001b[0;34m[\u001b[0m\u001b[0mIA\u001b[0m\u001b[0;34m,\u001b[0m \u001b[0mIB\u001b[0m\u001b[0;34m]\u001b[0m\u001b[0;34m\u001b[0m\u001b[0;34m\u001b[0m\u001b[0m\n",
      "\u001b[0;32m~/environment/trading_strategy_1.py\u001b[0m in \u001b[0;36m__init__\u001b[0;34m(self, instrument_id, params)\u001b[0m\n\u001b[1;32m     31\u001b[0m         \u001b[0mself\u001b[0m\u001b[0;34m.\u001b[0m\u001b[0mid\u001b[0m \u001b[0;34m=\u001b[0m \u001b[0minstrument_id\u001b[0m\u001b[0;34m\u001b[0m\u001b[0;34m\u001b[0m\u001b[0m\n\u001b[1;32m     32\u001b[0m         \u001b[0mself\u001b[0m\u001b[0;34m.\u001b[0m\u001b[0mparams\u001b[0m \u001b[0;34m=\u001b[0m \u001b[0mparams\u001b[0m\u001b[0;34m\u001b[0m\u001b[0;34m\u001b[0m\u001b[0m\n\u001b[0;32m---> 33\u001b[0;31m         \u001b[0mself\u001b[0m\u001b[0;34m.\u001b[0m\u001b[0mprice\u001b[0m \u001b[0;34m=\u001b[0m \u001b[0mupdate_estimates\u001b[0m\u001b[0;34m(\u001b[0m\u001b[0mself\u001b[0m\u001b[0;34m)\u001b[0m\u001b[0;34m\u001b[0m\u001b[0;34m\u001b[0m\u001b[0m\n\u001b[0m\u001b[1;32m     34\u001b[0m \u001b[0;34m\u001b[0m\u001b[0m\n\u001b[1;32m     35\u001b[0m     \u001b[0;32mdef\u001b[0m \u001b[0mupdate_price\u001b[0m\u001b[0;34m(\u001b[0m\u001b[0mself\u001b[0m\u001b[0;34m)\u001b[0m\u001b[0;34m:\u001b[0m\u001b[0;34m\u001b[0m\u001b[0;34m\u001b[0m\u001b[0m\n",
      "\u001b[0;32m~/environment/trading_strategy_1.py\u001b[0m in \u001b[0;36mupdate_estimates\u001b[0;34m(instrument, curr_price)\u001b[0m\n\u001b[1;32m     69\u001b[0m \u001b[0;34m\u001b[0m\u001b[0m\n\u001b[1;32m     70\u001b[0m     \u001b[0mtimestamps\u001b[0m \u001b[0;34m=\u001b[0m \u001b[0;34m[\u001b[0m\u001b[0mt\u001b[0m\u001b[0;34m.\u001b[0m\u001b[0mtimestamp\u001b[0m \u001b[0;32mfor\u001b[0m \u001b[0mt\u001b[0m \u001b[0;32min\u001b[0m \u001b[0mtrade_ticks\u001b[0m\u001b[0;34m]\u001b[0m\u001b[0;34m\u001b[0m\u001b[0;34m\u001b[0m\u001b[0m\n\u001b[0;32m---> 71\u001b[0;31m     \u001b[0mseconds\u001b[0m \u001b[0;34m=\u001b[0m \u001b[0;34m[\u001b[0m\u001b[0;34m(\u001b[0m\u001b[0mt\u001b[0m\u001b[0;34m.\u001b[0m\u001b[0mtimestamp\u001b[0m \u001b[0;34m-\u001b[0m \u001b[0mtimestamps\u001b[0m\u001b[0;34m[\u001b[0m\u001b[0;36m0\u001b[0m\u001b[0;34m]\u001b[0m\u001b[0;34m)\u001b[0m\u001b[0;34m.\u001b[0m\u001b[0mseconds\u001b[0m \u001b[0;32mfor\u001b[0m \u001b[0mt\u001b[0m \u001b[0;32min\u001b[0m \u001b[0mtimestamps\u001b[0m\u001b[0;34m]\u001b[0m\u001b[0;34m\u001b[0m\u001b[0;34m\u001b[0m\u001b[0m\n\u001b[0m\u001b[1;32m     72\u001b[0m     \u001b[0mprice_weights\u001b[0m \u001b[0;34m=\u001b[0m \u001b[0mswitch_mean_and_std\u001b[0m\u001b[0;34m(\u001b[0m\u001b[0mseconds\u001b[0m\u001b[0;34m,\u001b[0m \u001b[0;36m1\u001b[0m\u001b[0;34m,\u001b[0m \u001b[0mtime_steepness\u001b[0m\u001b[0;34m)\u001b[0m\u001b[0;34m\u001b[0m\u001b[0;34m\u001b[0m\u001b[0m\n\u001b[1;32m     73\u001b[0m     \u001b[0mprice_avg\u001b[0m \u001b[0;34m=\u001b[0m \u001b[0msum\u001b[0m\u001b[0;34m(\u001b[0m\u001b[0;34m[\u001b[0m\u001b[0mp\u001b[0m \u001b[0;34m*\u001b[0m \u001b[0mw\u001b[0m \u001b[0;32mfor\u001b[0m \u001b[0mp\u001b[0m\u001b[0;34m,\u001b[0m \u001b[0mw\u001b[0m \u001b[0;32min\u001b[0m \u001b[0mzip\u001b[0m\u001b[0;34m(\u001b[0m\u001b[0mprices\u001b[0m\u001b[0;34m,\u001b[0m \u001b[0mprice_weights\u001b[0m\u001b[0;34m)\u001b[0m\u001b[0;34m]\u001b[0m\u001b[0;34m)\u001b[0m\u001b[0;34m\u001b[0m\u001b[0;34m\u001b[0m\u001b[0m\n",
      "\u001b[0;32m~/environment/trading_strategy_1.py\u001b[0m in \u001b[0;36m<listcomp>\u001b[0;34m(.0)\u001b[0m\n\u001b[1;32m     69\u001b[0m \u001b[0;34m\u001b[0m\u001b[0m\n\u001b[1;32m     70\u001b[0m     \u001b[0mtimestamps\u001b[0m \u001b[0;34m=\u001b[0m \u001b[0;34m[\u001b[0m\u001b[0mt\u001b[0m\u001b[0;34m.\u001b[0m\u001b[0mtimestamp\u001b[0m \u001b[0;32mfor\u001b[0m \u001b[0mt\u001b[0m \u001b[0;32min\u001b[0m \u001b[0mtrade_ticks\u001b[0m\u001b[0;34m]\u001b[0m\u001b[0;34m\u001b[0m\u001b[0;34m\u001b[0m\u001b[0m\n\u001b[0;32m---> 71\u001b[0;31m     \u001b[0mseconds\u001b[0m \u001b[0;34m=\u001b[0m \u001b[0;34m[\u001b[0m\u001b[0;34m(\u001b[0m\u001b[0mt\u001b[0m\u001b[0;34m.\u001b[0m\u001b[0mtimestamp\u001b[0m \u001b[0;34m-\u001b[0m \u001b[0mtimestamps\u001b[0m\u001b[0;34m[\u001b[0m\u001b[0;36m0\u001b[0m\u001b[0;34m]\u001b[0m\u001b[0;34m)\u001b[0m\u001b[0;34m.\u001b[0m\u001b[0mseconds\u001b[0m \u001b[0;32mfor\u001b[0m \u001b[0mt\u001b[0m \u001b[0;32min\u001b[0m \u001b[0mtimestamps\u001b[0m\u001b[0;34m]\u001b[0m\u001b[0;34m\u001b[0m\u001b[0;34m\u001b[0m\u001b[0m\n\u001b[0m\u001b[1;32m     72\u001b[0m     \u001b[0mprice_weights\u001b[0m \u001b[0;34m=\u001b[0m \u001b[0mswitch_mean_and_std\u001b[0m\u001b[0;34m(\u001b[0m\u001b[0mseconds\u001b[0m\u001b[0;34m,\u001b[0m \u001b[0;36m1\u001b[0m\u001b[0;34m,\u001b[0m \u001b[0mtime_steepness\u001b[0m\u001b[0;34m)\u001b[0m\u001b[0;34m\u001b[0m\u001b[0;34m\u001b[0m\u001b[0m\n\u001b[1;32m     73\u001b[0m     \u001b[0mprice_avg\u001b[0m \u001b[0;34m=\u001b[0m \u001b[0msum\u001b[0m\u001b[0;34m(\u001b[0m\u001b[0;34m[\u001b[0m\u001b[0mp\u001b[0m \u001b[0;34m*\u001b[0m \u001b[0mw\u001b[0m \u001b[0;32mfor\u001b[0m \u001b[0mp\u001b[0m\u001b[0;34m,\u001b[0m \u001b[0mw\u001b[0m \u001b[0;32min\u001b[0m \u001b[0mzip\u001b[0m\u001b[0;34m(\u001b[0m\u001b[0mprices\u001b[0m\u001b[0;34m,\u001b[0m \u001b[0mprice_weights\u001b[0m\u001b[0;34m)\u001b[0m\u001b[0;34m]\u001b[0m\u001b[0;34m)\u001b[0m\u001b[0;34m\u001b[0m\u001b[0;34m\u001b[0m\u001b[0m\n",
      "\u001b[0;31mTypeError\u001b[0m: unsupported operand type(s) for -: 'builtin_function_or_method' and 'datetime.datetime'"
     ]
    }
   ],
   "source": [
    "logger = logging.getLogger('client')\n",
    "logger.setLevel('ERROR')\n",
    "print(\"Setup was successful.\")\n",
    "#connect()\n",
    "\n",
    "IA = Instrument_(PA, Params())\n",
    "IB = Instrument_(PB, Params())\n",
    "instruments = [IA, IB]\n",
    "iteration = 0\n",
    "pnls = collections.deque(5*[0], 5)"
   ]
  },
  {
   "cell_type": "code",
   "execution_count": 14,
   "id": "postal-nevada",
   "metadata": {},
   "outputs": [],
   "source": [
    "PA = 'PHILIPS_A'\n",
    "trade_ticks = exchange.poll_new_trade_ticks(PA)\n",
    "aggressor\n",
    "\n",
    "trade_ticks = list(filter(lambda ticks: ticks.buyer != name and ticks.seller != name, trade_ticks))\n",
    "prices = list(map(lambda t: t.price * (100 + aggressor_bias)/100 if t.aggressor_bias == \"ask\" else t.price * (100 - aggressor_bias)/100, trade_ticks))\n",
    "prices"
   ]
  },
  {
   "cell_type": "code",
   "execution_count": 18,
   "id": "optimum-heart",
   "metadata": {},
   "outputs": [
    {
     "ename": "AttributeError",
     "evalue": "'TradeTick' object has no attribute 'aggressor_bias'",
     "output_type": "error",
     "traceback": [
      "\u001b[0;31m---------------------------------------------------------------------------\u001b[0m",
      "\u001b[0;31mAttributeError\u001b[0m                            Traceback (most recent call last)",
      "\u001b[0;32m<ipython-input-18-6599fb64326e>\u001b[0m in \u001b[0;36m<module>\u001b[0;34m\u001b[0m\n\u001b[0;32m----> 1\u001b[0;31m \u001b[0mlist\u001b[0m\u001b[0;34m(\u001b[0m\u001b[0mprices\u001b[0m\u001b[0;34m)\u001b[0m\u001b[0;34m\u001b[0m\u001b[0;34m\u001b[0m\u001b[0m\n\u001b[0m",
      "\u001b[0;32m<ipython-input-15-12a60177852b>\u001b[0m in \u001b[0;36m<lambda>\u001b[0;34m(t)\u001b[0m\n\u001b[1;32m      1\u001b[0m \u001b[0mtrade_ticks\u001b[0m \u001b[0;34m=\u001b[0m \u001b[0mlist\u001b[0m\u001b[0;34m(\u001b[0m\u001b[0mfilter\u001b[0m\u001b[0;34m(\u001b[0m\u001b[0;32mlambda\u001b[0m \u001b[0mticks\u001b[0m\u001b[0;34m:\u001b[0m \u001b[0mticks\u001b[0m\u001b[0;34m.\u001b[0m\u001b[0mbuyer\u001b[0m \u001b[0;34m!=\u001b[0m \u001b[0mname\u001b[0m \u001b[0;32mand\u001b[0m \u001b[0mticks\u001b[0m\u001b[0;34m.\u001b[0m\u001b[0mseller\u001b[0m \u001b[0;34m!=\u001b[0m \u001b[0mname\u001b[0m\u001b[0;34m,\u001b[0m \u001b[0mtrade_ticks\u001b[0m\u001b[0;34m)\u001b[0m\u001b[0;34m)\u001b[0m\u001b[0;34m\u001b[0m\u001b[0;34m\u001b[0m\u001b[0m\n\u001b[0;32m----> 2\u001b[0;31m \u001b[0mprices\u001b[0m \u001b[0;34m=\u001b[0m \u001b[0mmap\u001b[0m\u001b[0;34m(\u001b[0m\u001b[0;32mlambda\u001b[0m \u001b[0mt\u001b[0m\u001b[0;34m:\u001b[0m \u001b[0mt\u001b[0m\u001b[0;34m.\u001b[0m\u001b[0mprice\u001b[0m \u001b[0;34m*\u001b[0m \u001b[0;34m(\u001b[0m\u001b[0;36m100\u001b[0m \u001b[0;34m+\u001b[0m \u001b[0maggressor_bias\u001b[0m\u001b[0;34m)\u001b[0m\u001b[0;34m/\u001b[0m\u001b[0;36m100\u001b[0m \u001b[0;32mif\u001b[0m \u001b[0mt\u001b[0m\u001b[0;34m.\u001b[0m\u001b[0maggressor_bias\u001b[0m \u001b[0;34m==\u001b[0m \u001b[0;34m\"ask\"\u001b[0m \u001b[0;32melse\u001b[0m \u001b[0mt\u001b[0m\u001b[0;34m.\u001b[0m\u001b[0mprice\u001b[0m \u001b[0;34m*\u001b[0m \u001b[0;34m(\u001b[0m\u001b[0;36m100\u001b[0m \u001b[0;34m-\u001b[0m \u001b[0maggressor_bias\u001b[0m\u001b[0;34m)\u001b[0m\u001b[0;34m/\u001b[0m\u001b[0;36m100\u001b[0m\u001b[0;34m,\u001b[0m \u001b[0mtrade_ticks\u001b[0m\u001b[0;34m)\u001b[0m\u001b[0;34m\u001b[0m\u001b[0;34m\u001b[0m\u001b[0m\n\u001b[0m",
      "\u001b[0;31mAttributeError\u001b[0m: 'TradeTick' object has no attribute 'aggressor_bias'"
     ]
    },
    {
     "name": "stderr",
     "output_type": "stream",
     "text": [
      "2021-01-24 10:55:56,269 [client    ] [Thread-5    ] Forcing a disconnect due to an error: Closing connection because someone else logged in with the same credentials. Only one session may be active at the same time.\n"
     ]
    }
   ],
   "source": [
    "list(prices)"
   ]
  },
  {
   "cell_type": "code",
   "execution_count": 22,
   "id": "partial-raise",
   "metadata": {},
   "outputs": [
    {
     "name": "stderr",
     "output_type": "stream",
     "text": [
      "2021-01-24 11:09:29,200 [asyncio   ] [MainThread  ] Using selector: EpollSelector\n",
      "2021-01-24 11:09:29,204 [client    ] [Thread-7    ] background thread started\n",
      "2021-01-24 11:09:29,230 [client    ] [Thread-7    ] opened connection\n",
      "2021-01-24 11:09:29,231 [client    ] [Thread-7    ] start read <StreamReader t=<_SelectorSocketTransport fd=132 read=polling write=<idle, bufsize=0>>>\n",
      "2021-01-24 11:09:29,232 [client    ] [Thread-7    ] logged in!\n"
     ]
    },
    {
     "data": {
      "text/plain": [
       "[]"
      ]
     },
     "execution_count": 22,
     "metadata": {},
     "output_type": "execute_result"
    }
   ],
   "source": [
    "from optibook.synchronous_client import Exchange\n",
    "\n",
    "e = Exchange()\n",
    "a = e.connect()\n",
    "\n",
    "PA = 'PHILIPS_A'\n",
    "name = 'hack-cambridge-05'\n",
    "trade_ticks = e.poll_new_trade_ticks(PA)\n",
    "aggressor_bias = 0.05\n",
    "\n",
    "trade_ticks = list(filter(lambda ticks: ticks.buyer != name and ticks.seller != name, trade_ticks))\n",
    "prices = list(map(lambda t: t.price * (100 + aggressor_bias)/100 if t.aggressor_side == \"ask\" else t.price * (100 - aggressor_bias)/100, trade_ticks))\n",
    "\n",
    "timestamps = [t.timestamp for t in trade_ticks]\n",
    "\n",
    "trade_ticks"
   ]
  },
  {
   "cell_type": "code",
   "execution_count": 23,
   "id": "restricted-transport",
   "metadata": {},
   "outputs": [
    {
     "data": {
      "text/plain": [
       "[]"
      ]
     },
     "execution_count": 23,
     "metadata": {},
     "output_type": "execute_result"
    }
   ],
   "source": [
    "trade_ticks"
   ]
  },
  {
   "cell_type": "code",
   "execution_count": 26,
   "id": "surrounded-daisy",
   "metadata": {},
   "outputs": [
    {
     "data": {
      "text/plain": [
       "[<optibook.common_types.TradeTick at 0x7ffa38be3198>,\n",
       " <optibook.common_types.TradeTick at 0x7ffa383a1e10>,\n",
       " <optibook.common_types.TradeTick at 0x7ffa38c0b898>,\n",
       " <optibook.common_types.TradeTick at 0x7ffa383a36d8>,\n",
       " <optibook.common_types.TradeTick at 0x7ffa390efdd8>,\n",
       " <optibook.common_types.TradeTick at 0x7ffa390dbc50>,\n",
       " <optibook.common_types.TradeTick at 0x7ffa38c02da0>,\n",
       " <optibook.common_types.TradeTick at 0x7ffa38beab00>,\n",
       " <optibook.common_types.TradeTick at 0x7ffa383a3ac8>,\n",
       " <optibook.common_types.TradeTick at 0x7ffa38be3c50>,\n",
       " <optibook.common_types.TradeTick at 0x7ffa383a1ac8>,\n",
       " <optibook.common_types.TradeTick at 0x7ffa383a1c18>,\n",
       " <optibook.common_types.TradeTick at 0x7ffa383ae048>,\n",
       " <optibook.common_types.TradeTick at 0x7ffa390e79e8>,\n",
       " <optibook.common_types.TradeTick at 0x7ffa383ae8d0>,\n",
       " <optibook.common_types.TradeTick at 0x7ffa383ae780>,\n",
       " <optibook.common_types.TradeTick at 0x7ffa383ae748>,\n",
       " <optibook.common_types.TradeTick at 0x7ffa383ae668>,\n",
       " <optibook.common_types.TradeTick at 0x7ffa383ae2e8>,\n",
       " <optibook.common_types.TradeTick at 0x7ffa38c05cf8>,\n",
       " <optibook.common_types.TradeTick at 0x7ffa383b7240>,\n",
       " <optibook.common_types.TradeTick at 0x7ffa38c052b0>,\n",
       " <optibook.common_types.TradeTick at 0x7ffa390e3f60>,\n",
       " <optibook.common_types.TradeTick at 0x7ffa390ef588>,\n",
       " <optibook.common_types.TradeTick at 0x7ffa38c0bcc0>,\n",
       " <optibook.common_types.TradeTick at 0x7ffa390dba90>,\n",
       " <optibook.common_types.TradeTick at 0x7ffa390ef0f0>,\n",
       " <optibook.common_types.TradeTick at 0x7ffa38bfca20>,\n",
       " <optibook.common_types.TradeTick at 0x7ffa38c0b080>,\n",
       " <optibook.common_types.TradeTick at 0x7ffa38bfc5c0>,\n",
       " <optibook.common_types.TradeTick at 0x7ffa383ae400>,\n",
       " <optibook.common_types.TradeTick at 0x7ffa38c6a5c0>,\n",
       " <optibook.common_types.TradeTick at 0x7ffa383b7cc0>,\n",
       " <optibook.common_types.TradeTick at 0x7ffa383b7518>,\n",
       " <optibook.common_types.TradeTick at 0x7ffa390e3588>,\n",
       " <optibook.common_types.TradeTick at 0x7ffa38bea9b0>,\n",
       " <optibook.common_types.TradeTick at 0x7ffa390db240>,\n",
       " <optibook.common_types.TradeTick at 0x7ffa383b7c50>,\n",
       " <optibook.common_types.TradeTick at 0x7ffa38c048d0>,\n",
       " <optibook.common_types.TradeTick at 0x7ffa383b7b38>,\n",
       " <optibook.common_types.TradeTick at 0x7ffa383b8160>,\n",
       " <optibook.common_types.TradeTick at 0x7ffa38c05fd0>,\n",
       " <optibook.common_types.TradeTick at 0x7ffa383b8128>,\n",
       " <optibook.common_types.TradeTick at 0x7ffa383b8898>,\n",
       " <optibook.common_types.TradeTick at 0x7ffa38be3898>,\n",
       " <optibook.common_types.TradeTick at 0x7ffa38c11d30>,\n",
       " <optibook.common_types.TradeTick at 0x7ffa390e3c18>,\n",
       " <optibook.common_types.TradeTick at 0x7ffa390efa58>]"
      ]
     },
     "execution_count": 26,
     "metadata": {},
     "output_type": "execute_result"
    }
   ],
   "source": [
    "PA = 'PHILIPS_A'\n",
    "name = 'hack-cambridge-05'\n",
    "trade_ticks = e.poll_new_trade_ticks(PA)\n",
    "aggressor_bias = 0.05\n",
    "\n",
    "trade_ticks = list(filter(lambda ticks: ticks.buyer != name and ticks.seller != name, trade_ticks))\n",
    "prices = list(map(lambda t: t.price * (100 + aggressor_bias)/100 if t.aggressor_side == \"ask\" else t.price * (100 - aggressor_bias)/100, trade_ticks))\n",
    "\n",
    "timestamps = [t.timestamp for t in trade_ticks]\n",
    "\n",
    "trade_ticks"
   ]
  },
  {
   "cell_type": "code",
   "execution_count": 28,
   "id": "mighty-school",
   "metadata": {},
   "outputs": [
    {
     "data": {
      "text/plain": [
       "[datetime.datetime(2021, 1, 24, 11, 9, 30),\n",
       " datetime.datetime(2021, 1, 24, 11, 9, 31),\n",
       " datetime.datetime(2021, 1, 24, 11, 9, 31),\n",
       " datetime.datetime(2021, 1, 24, 11, 9, 32),\n",
       " datetime.datetime(2021, 1, 24, 11, 9, 35),\n",
       " datetime.datetime(2021, 1, 24, 11, 9, 35),\n",
       " datetime.datetime(2021, 1, 24, 11, 9, 37),\n",
       " datetime.datetime(2021, 1, 24, 11, 9, 37),\n",
       " datetime.datetime(2021, 1, 24, 11, 9, 37),\n",
       " datetime.datetime(2021, 1, 24, 11, 9, 38),\n",
       " datetime.datetime(2021, 1, 24, 11, 9, 42),\n",
       " datetime.datetime(2021, 1, 24, 11, 9, 46),\n",
       " datetime.datetime(2021, 1, 24, 11, 9, 47),\n",
       " datetime.datetime(2021, 1, 24, 11, 9, 49),\n",
       " datetime.datetime(2021, 1, 24, 11, 9, 49),\n",
       " datetime.datetime(2021, 1, 24, 11, 9, 49),\n",
       " datetime.datetime(2021, 1, 24, 11, 9, 49),\n",
       " datetime.datetime(2021, 1, 24, 11, 9, 49),\n",
       " datetime.datetime(2021, 1, 24, 11, 9, 49),\n",
       " datetime.datetime(2021, 1, 24, 11, 9, 50),\n",
       " datetime.datetime(2021, 1, 24, 11, 9, 50),\n",
       " datetime.datetime(2021, 1, 24, 11, 9, 50),\n",
       " datetime.datetime(2021, 1, 24, 11, 9, 50),\n",
       " datetime.datetime(2021, 1, 24, 11, 9, 50),\n",
       " datetime.datetime(2021, 1, 24, 11, 9, 50),\n",
       " datetime.datetime(2021, 1, 24, 11, 9, 50),\n",
       " datetime.datetime(2021, 1, 24, 11, 9, 51),\n",
       " datetime.datetime(2021, 1, 24, 11, 9, 51),\n",
       " datetime.datetime(2021, 1, 24, 11, 9, 51),\n",
       " datetime.datetime(2021, 1, 24, 11, 9, 51),\n",
       " datetime.datetime(2021, 1, 24, 11, 9, 51),\n",
       " datetime.datetime(2021, 1, 24, 11, 9, 51),\n",
       " datetime.datetime(2021, 1, 24, 11, 9, 51),\n",
       " datetime.datetime(2021, 1, 24, 11, 9, 51),\n",
       " datetime.datetime(2021, 1, 24, 11, 9, 52),\n",
       " datetime.datetime(2021, 1, 24, 11, 9, 52),\n",
       " datetime.datetime(2021, 1, 24, 11, 9, 52),\n",
       " datetime.datetime(2021, 1, 24, 11, 9, 52),\n",
       " datetime.datetime(2021, 1, 24, 11, 9, 52),\n",
       " datetime.datetime(2021, 1, 24, 11, 9, 53),\n",
       " datetime.datetime(2021, 1, 24, 11, 9, 53),\n",
       " datetime.datetime(2021, 1, 24, 11, 9, 53),\n",
       " datetime.datetime(2021, 1, 24, 11, 9, 53),\n",
       " datetime.datetime(2021, 1, 24, 11, 9, 53),\n",
       " datetime.datetime(2021, 1, 24, 11, 9, 53),\n",
       " datetime.datetime(2021, 1, 24, 11, 9, 53),\n",
       " datetime.datetime(2021, 1, 24, 11, 9, 53),\n",
       " datetime.datetime(2021, 1, 24, 11, 9, 54)]"
      ]
     },
     "execution_count": 28,
     "metadata": {},
     "output_type": "execute_result"
    },
    {
     "name": "stderr",
     "output_type": "stream",
     "text": [
      "2021-01-24 11:10:29,878 [client    ] [Thread-7    ] Forcing a disconnect due to an error: Closing connection because someone else logged in with the same credentials. Only one session may be active at the same time.\n"
     ]
    }
   ],
   "source": [
    "timestamps"
   ]
  },
  {
   "cell_type": "code",
   "execution_count": 30,
   "id": "revolutionary-judge",
   "metadata": {},
   "outputs": [],
   "source": [
    "seconds = [(t- timestamps[0]).seconds for t in timestamps]"
   ]
  },
  {
   "cell_type": "code",
   "execution_count": 31,
   "id": "forward-angel",
   "metadata": {},
   "outputs": [
    {
     "data": {
      "text/plain": [
       "[0,\n",
       " 1,\n",
       " 1,\n",
       " 2,\n",
       " 5,\n",
       " 5,\n",
       " 7,\n",
       " 7,\n",
       " 7,\n",
       " 8,\n",
       " 12,\n",
       " 16,\n",
       " 17,\n",
       " 19,\n",
       " 19,\n",
       " 19,\n",
       " 19,\n",
       " 19,\n",
       " 19,\n",
       " 20,\n",
       " 20,\n",
       " 20,\n",
       " 20,\n",
       " 20,\n",
       " 20,\n",
       " 20,\n",
       " 21,\n",
       " 21,\n",
       " 21,\n",
       " 21,\n",
       " 21,\n",
       " 21,\n",
       " 21,\n",
       " 21,\n",
       " 22,\n",
       " 22,\n",
       " 22,\n",
       " 22,\n",
       " 22,\n",
       " 23,\n",
       " 23,\n",
       " 23,\n",
       " 23,\n",
       " 23,\n",
       " 23,\n",
       " 23,\n",
       " 23,\n",
       " 24]"
      ]
     },
     "execution_count": 31,
     "metadata": {},
     "output_type": "execute_result"
    }
   ],
   "source": [
    "seconds"
   ]
  },
  {
   "cell_type": "code",
   "execution_count": null,
   "id": "understanding-devon",
   "metadata": {},
   "outputs": [],
   "source": []
  }
 ],
 "metadata": {
  "kernelspec": {
   "display_name": "Python 3",
   "language": "python",
   "name": "python3"
  },
  "language_info": {
   "codemirror_mode": {
    "name": "ipython",
    "version": 3
   },
   "file_extension": ".py",
   "mimetype": "text/x-python",
   "name": "python",
   "nbconvert_exporter": "python",
   "pygments_lexer": "ipython3",
   "version": "3.6.12"
  }
 },
 "nbformat": 4,
 "nbformat_minor": 5
}
